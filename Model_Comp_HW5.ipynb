{
  "nbformat": 4,
  "nbformat_minor": 0,
  "metadata": {
    "colab": {
      "name": "Model_Comp_HW5.ipynb",
      "provenance": [],
      "collapsed_sections": [],
      "authorship_tag": "ABX9TyOVSiz47gxeeqwDEaHyyHMW",
      "include_colab_link": true
    },
    "kernelspec": {
      "name": "python3",
      "display_name": "Python 3"
    },
    "language_info": {
      "name": "python"
    }
  },
  "cells": [
    {
      "cell_type": "markdown",
      "metadata": {
        "id": "view-in-github",
        "colab_type": "text"
      },
      "source": [
        "<a href=\"https://colab.research.google.com/github/edmasters/51-assign05-edmasters/blob/main/Model_Comp_HW5.ipynb\" target=\"_parent\"><img src=\"https://colab.research.google.com/assets/colab-badge.svg\" alt=\"Open In Colab\"/></a>"
      ]
    },
    {
      "cell_type": "code",
      "execution_count": null,
      "metadata": {
        "id": "P4b38DIc5UQi"
      },
      "outputs": [],
      "source": [
        ""
      ]
    },
    {
      "cell_type": "markdown",
      "source": [
        "# Feature Engineering \n",
        "\n",
        "Finalized List of Features:\n",
        "\n",
        "1. Securities Code: Int representing the stock\n",
        "\n",
        "2. TypeOfCurrentPeriod: Obj, tells quarter vs fiscal year\n",
        "\n",
        "3. ForecastDividendPerShare1stQuarter: float, predicted dividends to be paid in 1st quarter\n",
        "\n",
        "4. ForecastDividendPerShare2ndQuarter: float, predicted dividends to be paid in 2nd quarter\n",
        "\n",
        "5. ForecastDividendPerShare3rdQuarter: float, predicted dividends to be paid in 3rd quarter\n",
        "\n",
        "6. ForecastOperatingProfit: float, predicted operating profit of company\n",
        "\n",
        "7. ForecastProfit: float, predicted profit of company\n",
        "\n",
        "8. ForecastEarningsPerShare: float, predicted earnings per share\n",
        "\n",
        "9. Open: float, open price of stock that day\n",
        "\n",
        "10. SectorCode: float, integer that stands for the sector a company is in\n",
        "\n",
        "11. Up: Boolean, y-variable of whether the stock went up or down that day\n",
        "\n",
        "\n"
      ],
      "metadata": {
        "id": "F9gcs5iT5WVu"
      }
    },
    {
      "cell_type": "code",
      "source": [
        "import pandas as pd\n",
        "import numpy as np\n",
        "import seaborn as sns\n",
        "import matplotlib.pyplot as plt\n",
        "from sklearn.model_selection import train_test_split, GridSearchCV\n",
        "from sklearn.linear_model import LogisticRegression\n",
        "from sklearn.ensemble import RandomForestClassifier, GradientBoostingClassifier\n",
        "from sklearn.pipeline import Pipeline \n",
        "from sklearn.compose import ColumnTransformer, make_column_selector\n",
        "from sklearn.impute import SimpleImputer\n",
        "from sklearn.preprocessing import OneHotEncoder, LabelBinarizer, StandardScaler\n",
        "from sklearn import config_context\n",
        "from sklearn.metrics import classification_report, confusion_matrix, ConfusionMatrixDisplay\n",
        "from sklearn.datasets import make_classification\n",
        "from sklearn.metrics import roc_curve\n",
        "#Upload data\n",
        "#uploaded = files.upload()"
      ],
      "metadata": {
        "id": "0I2d97c259cs"
      },
      "execution_count": null,
      "outputs": []
    },
    {
      "cell_type": "markdown",
      "source": [
        "## Exploring the Data"
      ],
      "metadata": {
        "id": "Xt5TN_ez6Quo"
      }
    },
    {
      "cell_type": "code",
      "source": [
        "#Loading and prepping data before the pipeline\n",
        "earnings = pd.read_csv('earnings.csv')\n",
        "\n",
        "#replace \"-\" which stands for zero as well\n",
        "earnings = earnings.replace(\"－\",0)\n",
        "\n",
        "#cast to floats\n",
        "earnings = earnings.astype({'ForecastDividendPerShare1stQuarter': 'float64','ForecastDividendPerShare2ndQuarter':'float64','ForecastDividendPerShare3rdQuarter':'float64','ForecastOperatingProfit':'float64','ForecastProfit':'float64','ForecastEarningsPerShare':'float64'})\n",
        "\n",
        "# turn y values from True, False to 1,0\n",
        "earnings.Up = earnings.Up.replace(True,1)\n",
        "earnings.Up = earnings.Up.replace(False,0)\n",
        "\n",
        "#Turn Current Period to Catagory - not needed with pipeline set-up\n",
        "earnings['TypeOfCurrentPeriod'] = pd.factorize(earnings['TypeOfCurrentPeriod'])[0] \n",
        "\n",
        "earnings = earnings.replace(np.nan,0)\n",
        "\n",
        "display(earnings.tail(5))\n",
        "earnings.info()"
      ],
      "metadata": {
        "colab": {
          "base_uri": "https://localhost:8080/",
          "height": 591
        },
        "id": "Xg2MUoex6YSb",
        "outputId": "5701eb3b-998a-4cc6-e5bd-f1c3d2ac6061"
      },
      "execution_count": null,
      "outputs": [
        {
          "output_type": "display_data",
          "data": {
            "text/plain": [
              "       SecuritiesCode  TypeOfCurrentPeriod  \\\n",
              "20158          9997.0                    1   \n",
              "20159          9997.0                    2   \n",
              "20160          9997.0                    1   \n",
              "20161          9997.0                    2   \n",
              "20162          9997.0                    2   \n",
              "\n",
              "       ForecastDividendPerShare1stQuarter  ForecastDividendPerShare2ndQuarter  \\\n",
              "20158                                 0.0                                 0.0   \n",
              "20159                                 0.0                                 8.0   \n",
              "20160                                 0.0                                 0.0   \n",
              "20161                                 0.0                                 8.0   \n",
              "20162                                 0.0                                 9.5   \n",
              "\n",
              "       ForecastDividendPerShare3rdQuarter  ForecastOperatingProfit  \\\n",
              "20158                                 0.0             3.850000e+09   \n",
              "20159                                 0.0             1.400000e+10   \n",
              "20160                                 0.0             3.863000e+09   \n",
              "20161                                 0.0             7.000000e+09   \n",
              "20162                                 0.0             1.750000e+10   \n",
              "\n",
              "       ForecastProfit  ForecastEarningsPerShare    Open  SectorCode  Up  \n",
              "20158    4.228000e+09                     43.49  1001.0        6100   0  \n",
              "20159    1.050000e+10                    108.43  1024.0        6100   1  \n",
              "20160    1.678000e+09                     17.35   630.0        6100   1  \n",
              "20161    5.200000e+09                     53.80   643.0        6100   1  \n",
              "20162    1.250000e+10                    129.30  1313.0        6100   0  "
            ],
            "text/html": [
              "\n",
              "  <div id=\"df-0bf2d936-bc54-4dd9-bfc0-a0d832596488\">\n",
              "    <div class=\"colab-df-container\">\n",
              "      <div>\n",
              "<style scoped>\n",
              "    .dataframe tbody tr th:only-of-type {\n",
              "        vertical-align: middle;\n",
              "    }\n",
              "\n",
              "    .dataframe tbody tr th {\n",
              "        vertical-align: top;\n",
              "    }\n",
              "\n",
              "    .dataframe thead th {\n",
              "        text-align: right;\n",
              "    }\n",
              "</style>\n",
              "<table border=\"1\" class=\"dataframe\">\n",
              "  <thead>\n",
              "    <tr style=\"text-align: right;\">\n",
              "      <th></th>\n",
              "      <th>SecuritiesCode</th>\n",
              "      <th>TypeOfCurrentPeriod</th>\n",
              "      <th>ForecastDividendPerShare1stQuarter</th>\n",
              "      <th>ForecastDividendPerShare2ndQuarter</th>\n",
              "      <th>ForecastDividendPerShare3rdQuarter</th>\n",
              "      <th>ForecastOperatingProfit</th>\n",
              "      <th>ForecastProfit</th>\n",
              "      <th>ForecastEarningsPerShare</th>\n",
              "      <th>Open</th>\n",
              "      <th>SectorCode</th>\n",
              "      <th>Up</th>\n",
              "    </tr>\n",
              "  </thead>\n",
              "  <tbody>\n",
              "    <tr>\n",
              "      <th>20158</th>\n",
              "      <td>9997.0</td>\n",
              "      <td>1</td>\n",
              "      <td>0.0</td>\n",
              "      <td>0.0</td>\n",
              "      <td>0.0</td>\n",
              "      <td>3.850000e+09</td>\n",
              "      <td>4.228000e+09</td>\n",
              "      <td>43.49</td>\n",
              "      <td>1001.0</td>\n",
              "      <td>6100</td>\n",
              "      <td>0</td>\n",
              "    </tr>\n",
              "    <tr>\n",
              "      <th>20159</th>\n",
              "      <td>9997.0</td>\n",
              "      <td>2</td>\n",
              "      <td>0.0</td>\n",
              "      <td>8.0</td>\n",
              "      <td>0.0</td>\n",
              "      <td>1.400000e+10</td>\n",
              "      <td>1.050000e+10</td>\n",
              "      <td>108.43</td>\n",
              "      <td>1024.0</td>\n",
              "      <td>6100</td>\n",
              "      <td>1</td>\n",
              "    </tr>\n",
              "    <tr>\n",
              "      <th>20160</th>\n",
              "      <td>9997.0</td>\n",
              "      <td>1</td>\n",
              "      <td>0.0</td>\n",
              "      <td>0.0</td>\n",
              "      <td>0.0</td>\n",
              "      <td>3.863000e+09</td>\n",
              "      <td>1.678000e+09</td>\n",
              "      <td>17.35</td>\n",
              "      <td>630.0</td>\n",
              "      <td>6100</td>\n",
              "      <td>1</td>\n",
              "    </tr>\n",
              "    <tr>\n",
              "      <th>20161</th>\n",
              "      <td>9997.0</td>\n",
              "      <td>2</td>\n",
              "      <td>0.0</td>\n",
              "      <td>8.0</td>\n",
              "      <td>0.0</td>\n",
              "      <td>7.000000e+09</td>\n",
              "      <td>5.200000e+09</td>\n",
              "      <td>53.80</td>\n",
              "      <td>643.0</td>\n",
              "      <td>6100</td>\n",
              "      <td>1</td>\n",
              "    </tr>\n",
              "    <tr>\n",
              "      <th>20162</th>\n",
              "      <td>9997.0</td>\n",
              "      <td>2</td>\n",
              "      <td>0.0</td>\n",
              "      <td>9.5</td>\n",
              "      <td>0.0</td>\n",
              "      <td>1.750000e+10</td>\n",
              "      <td>1.250000e+10</td>\n",
              "      <td>129.30</td>\n",
              "      <td>1313.0</td>\n",
              "      <td>6100</td>\n",
              "      <td>0</td>\n",
              "    </tr>\n",
              "  </tbody>\n",
              "</table>\n",
              "</div>\n",
              "      <button class=\"colab-df-convert\" onclick=\"convertToInteractive('df-0bf2d936-bc54-4dd9-bfc0-a0d832596488')\"\n",
              "              title=\"Convert this dataframe to an interactive table.\"\n",
              "              style=\"display:none;\">\n",
              "        \n",
              "  <svg xmlns=\"http://www.w3.org/2000/svg\" height=\"24px\"viewBox=\"0 0 24 24\"\n",
              "       width=\"24px\">\n",
              "    <path d=\"M0 0h24v24H0V0z\" fill=\"none\"/>\n",
              "    <path d=\"M18.56 5.44l.94 2.06.94-2.06 2.06-.94-2.06-.94-.94-2.06-.94 2.06-2.06.94zm-11 1L8.5 8.5l.94-2.06 2.06-.94-2.06-.94L8.5 2.5l-.94 2.06-2.06.94zm10 10l.94 2.06.94-2.06 2.06-.94-2.06-.94-.94-2.06-.94 2.06-2.06.94z\"/><path d=\"M17.41 7.96l-1.37-1.37c-.4-.4-.92-.59-1.43-.59-.52 0-1.04.2-1.43.59L10.3 9.45l-7.72 7.72c-.78.78-.78 2.05 0 2.83L4 21.41c.39.39.9.59 1.41.59.51 0 1.02-.2 1.41-.59l7.78-7.78 2.81-2.81c.8-.78.8-2.07 0-2.86zM5.41 20L4 18.59l7.72-7.72 1.47 1.35L5.41 20z\"/>\n",
              "  </svg>\n",
              "      </button>\n",
              "      \n",
              "  <style>\n",
              "    .colab-df-container {\n",
              "      display:flex;\n",
              "      flex-wrap:wrap;\n",
              "      gap: 12px;\n",
              "    }\n",
              "\n",
              "    .colab-df-convert {\n",
              "      background-color: #E8F0FE;\n",
              "      border: none;\n",
              "      border-radius: 50%;\n",
              "      cursor: pointer;\n",
              "      display: none;\n",
              "      fill: #1967D2;\n",
              "      height: 32px;\n",
              "      padding: 0 0 0 0;\n",
              "      width: 32px;\n",
              "    }\n",
              "\n",
              "    .colab-df-convert:hover {\n",
              "      background-color: #E2EBFA;\n",
              "      box-shadow: 0px 1px 2px rgba(60, 64, 67, 0.3), 0px 1px 3px 1px rgba(60, 64, 67, 0.15);\n",
              "      fill: #174EA6;\n",
              "    }\n",
              "\n",
              "    [theme=dark] .colab-df-convert {\n",
              "      background-color: #3B4455;\n",
              "      fill: #D2E3FC;\n",
              "    }\n",
              "\n",
              "    [theme=dark] .colab-df-convert:hover {\n",
              "      background-color: #434B5C;\n",
              "      box-shadow: 0px 1px 3px 1px rgba(0, 0, 0, 0.15);\n",
              "      filter: drop-shadow(0px 1px 2px rgba(0, 0, 0, 0.3));\n",
              "      fill: #FFFFFF;\n",
              "    }\n",
              "  </style>\n",
              "\n",
              "      <script>\n",
              "        const buttonEl =\n",
              "          document.querySelector('#df-0bf2d936-bc54-4dd9-bfc0-a0d832596488 button.colab-df-convert');\n",
              "        buttonEl.style.display =\n",
              "          google.colab.kernel.accessAllowed ? 'block' : 'none';\n",
              "\n",
              "        async function convertToInteractive(key) {\n",
              "          const element = document.querySelector('#df-0bf2d936-bc54-4dd9-bfc0-a0d832596488');\n",
              "          const dataTable =\n",
              "            await google.colab.kernel.invokeFunction('convertToInteractive',\n",
              "                                                     [key], {});\n",
              "          if (!dataTable) return;\n",
              "\n",
              "          const docLinkHtml = 'Like what you see? Visit the ' +\n",
              "            '<a target=\"_blank\" href=https://colab.research.google.com/notebooks/data_table.ipynb>data table notebook</a>'\n",
              "            + ' to learn more about interactive tables.';\n",
              "          element.innerHTML = '';\n",
              "          dataTable['output_type'] = 'display_data';\n",
              "          await google.colab.output.renderOutput(dataTable, element);\n",
              "          const docLink = document.createElement('div');\n",
              "          docLink.innerHTML = docLinkHtml;\n",
              "          element.appendChild(docLink);\n",
              "        }\n",
              "      </script>\n",
              "    </div>\n",
              "  </div>\n",
              "  "
            ]
          },
          "metadata": {}
        },
        {
          "output_type": "stream",
          "name": "stdout",
          "text": [
            "<class 'pandas.core.frame.DataFrame'>\n",
            "RangeIndex: 20163 entries, 0 to 20162\n",
            "Data columns (total 11 columns):\n",
            " #   Column                              Non-Null Count  Dtype  \n",
            "---  ------                              --------------  -----  \n",
            " 0   SecuritiesCode                      20163 non-null  float64\n",
            " 1   TypeOfCurrentPeriod                 20163 non-null  int64  \n",
            " 2   ForecastDividendPerShare1stQuarter  20163 non-null  float64\n",
            " 3   ForecastDividendPerShare2ndQuarter  20163 non-null  float64\n",
            " 4   ForecastDividendPerShare3rdQuarter  20163 non-null  float64\n",
            " 5   ForecastOperatingProfit             20163 non-null  float64\n",
            " 6   ForecastProfit                      20163 non-null  float64\n",
            " 7   ForecastEarningsPerShare            20163 non-null  float64\n",
            " 8   Open                                20163 non-null  float64\n",
            " 9   SectorCode                          20163 non-null  int64  \n",
            " 10  Up                                  20163 non-null  int64  \n",
            "dtypes: float64(8), int64(3)\n",
            "memory usage: 1.7 MB\n"
          ]
        }
      ]
    },
    {
      "cell_type": "markdown",
      "source": [
        "## Creating the initial Pipeline w/ logistic regression"
      ],
      "metadata": {
        "id": "cSbmXq4zDB2H"
      }
    },
    {
      "cell_type": "code",
      "source": [
        "#Setting up train/test splits and y-column\n",
        "\n",
        "class_column = 'Up'\n",
        "random_seed = 2\n",
        "\n",
        "#distinguishing between the quarters wasn't useful so I'm dropping for this method\n",
        "earnings_regress = earnings.drop(columns=['TypeOfCurrentPeriod'])\n",
        "print(earnings_regress.head())\n",
        "\n",
        "X_train, X_test, y_train, y_test = train_test_split(earnings_regress.drop(columns=class_column), earnings_regress[class_column],\n",
        "                                                   test_size=0.2, random_state=random_seed, stratify=earnings_regress[class_column])\n",
        "\n",
        "\n",
        "#using a constant for the strategy and added fill_value=0 since the blanks are really zero's (eg no dividend that quarter)\n",
        "cat_pipeline = Pipeline(steps=[('cat_impute', SimpleImputer(missing_values=np.nan, strategy='constant',fill_value= 0)),\n",
        "                               ('onehot_cat', OneHotEncoder(drop='if_binary'))])\n",
        "num_pipeline = Pipeline(steps=[('impute_num', SimpleImputer(missing_values=np.nan, strategy='constant',fill_value= 0)),\n",
        "                               ('scale_num', StandardScaler())])\n",
        "\n",
        "preproc = ColumnTransformer([('cat_pipe', cat_pipeline, make_column_selector(dtype_include=object)),\n",
        "                             ('num_pipe', num_pipeline, make_column_selector(dtype_include=np.number))],\n",
        "                             remainder='passthrough')\n",
        "\n",
        "#using logistic regression as the one initial model\n",
        "pipe = Pipeline(steps=[('preproc', preproc),\n",
        "                       ('mdl', LogisticRegression(penalty='elasticnet', solver='saga', tol=0.01))])\n",
        "\n",
        "print(pipe)"
      ],
      "metadata": {
        "colab": {
          "base_uri": "https://localhost:8080/"
        },
        "id": "1Cq7YHzoC9II",
        "outputId": "a584a8c8-712d-4c9c-a3e7-fb8858d04e1f"
      },
      "execution_count": null,
      "outputs": [
        {
          "output_type": "stream",
          "name": "stdout",
          "text": [
            "   SecuritiesCode  ForecastDividendPerShare1stQuarter  \\\n",
            "0          1301.0                                 0.0   \n",
            "1          1301.0                                 0.0   \n",
            "2          1301.0                                 0.0   \n",
            "3          1301.0                                 0.0   \n",
            "4          1301.0                                 0.0   \n",
            "\n",
            "   ForecastDividendPerShare2ndQuarter  ForecastDividendPerShare3rdQuarter  \\\n",
            "0                                 0.0                                 0.0   \n",
            "1                                 0.0                                 0.0   \n",
            "2                                 0.0                                 0.0   \n",
            "3                                 0.0                                 0.0   \n",
            "4                                 0.0                                 0.0   \n",
            "\n",
            "   ForecastOperatingProfit  ForecastProfit  ForecastEarningsPerShare    Open  \\\n",
            "0             5.000000e+09    3.500000e+09                    325.35  3065.0   \n",
            "1             0.000000e+00    0.000000e+00                      0.00  2730.0   \n",
            "2             4.000000e+09    2.700000e+09                    257.07  2726.0   \n",
            "3             0.000000e+00    0.000000e+00                      0.00  4160.0   \n",
            "4             4.800000e+09    3.200000e+09                    296.75  4250.0   \n",
            "\n",
            "   SectorCode  Up  \n",
            "0          50   1  \n",
            "1          50   1  \n",
            "2          50   0  \n",
            "3          50   1  \n",
            "4          50   1  \n",
            "Pipeline(steps=[('preproc',\n",
            "                 ColumnTransformer(remainder='passthrough',\n",
            "                                   transformers=[('cat_pipe',\n",
            "                                                  Pipeline(steps=[('cat_impute',\n",
            "                                                                   SimpleImputer(fill_value=0,\n",
            "                                                                                 strategy='constant')),\n",
            "                                                                  ('onehot_cat',\n",
            "                                                                   OneHotEncoder(drop='if_binary'))]),\n",
            "                                                  <sklearn.compose._column_transformer.make_column_selector object at 0x7fbc6882a190>),\n",
            "                                                 ('num_pipe',\n",
            "                                                  Pipeline(steps=[('impute_num',\n",
            "                                                                   SimpleImputer(fill_value=0,\n",
            "                                                                                 strategy='constant')),\n",
            "                                                                  ('scale_num',\n",
            "                                                                   StandardScaler())]),\n",
            "                                                  <sklearn.compose._column_transformer.make_column_selector object at 0x7fbc6882af50>)])),\n",
            "                ('mdl',\n",
            "                 LogisticRegression(penalty='elasticnet', solver='saga',\n",
            "                                    tol=0.01))])\n"
          ]
        }
      ]
    },
    {
      "cell_type": "markdown",
      "source": [
        "## Logistic Regression Results"
      ],
      "metadata": {
        "id": "E0HfaSw8c3J0"
      }
    },
    {
      "cell_type": "code",
      "source": [
        "tuning_grid = {'mdl__l1_ratio' : np.linspace(0,1,5),\n",
        "               'mdl__C': np.logspace(-1, 6, 3) }\n",
        "# TODO: choose your cv folds\n",
        "\n",
        "grid_search = GridSearchCV(pipe, param_grid = tuning_grid, cv = 5, return_train_score=True)\n",
        "\n",
        "grid_search.fit(X_train, y_train.values.ravel())\n",
        "\n",
        "grid_search.best_params_\n",
        "\n",
        "#logistic regression results\n",
        "logit_result = (classification_report(y_test, grid_search.best_estimator_.predict(X_test)))\n",
        "print(logit_result)"
      ],
      "metadata": {
        "colab": {
          "base_uri": "https://localhost:8080/"
        },
        "id": "mdaRSJXBc6QT",
        "outputId": "e17bc7bd-b9b5-4048-c670-d0ace0305601"
      },
      "execution_count": null,
      "outputs": [
        {
          "output_type": "stream",
          "name": "stdout",
          "text": [
            "              precision    recall  f1-score   support\n",
            "\n",
            "           0       0.50      0.00      0.00      1593\n",
            "           1       0.61      1.00      0.75      2440\n",
            "\n",
            "    accuracy                           0.61      4033\n",
            "   macro avg       0.55      0.50      0.38      4033\n",
            "weighted avg       0.56      0.61      0.46      4033\n",
            "\n"
          ]
        }
      ]
    },
    {
      "cell_type": "markdown",
      "source": [
        "## Random Forest Results"
      ],
      "metadata": {
        "id": "2rbSuOJ7c6ed"
      }
    },
    {
      "cell_type": "code",
      "source": [
        "class_column = 'Up'\n",
        "\n",
        "X_train, X_test, y_train, y_test = train_test_split(earnings.drop(columns=class_column), earnings[class_column],\n",
        "                                                   test_size=0.2, random_state=random_seed, stratify=earnings[class_column])\n",
        "\n",
        "pipe_forest = RandomForestClassifier(n_jobs=-1,max_features= 'sqrt' ,n_estimators=100, oob_score = True)\n",
        "\n",
        "\n",
        "# forest tuning\n",
        "\n",
        "forest_grid = { \n",
        "    'n_estimators': [50, 100],\n",
        "    'max_features': ['auto', 'sqrt']\n",
        "}\n",
        "\n",
        "grid_search = GridSearchCV(estimator = pipe_forest, cv = 5, param_grid = forest_grid, return_train_score=True)\n",
        "\n",
        "grid_search.fit(X_train, y_train.values.ravel())\n",
        "\n",
        "grid_search.best_params_\n",
        "\n",
        "#logistic regression results\n",
        "forest_result = (classification_report(y_test, grid_search.best_estimator_.predict(X_test)))\n",
        "print(forest_result)"
      ],
      "metadata": {
        "colab": {
          "base_uri": "https://localhost:8080/"
        },
        "id": "APKXl6TXdA2S",
        "outputId": "cfd23f04-f419-4447-eb3e-d2f17157463e"
      },
      "execution_count": null,
      "outputs": [
        {
          "output_type": "stream",
          "name": "stdout",
          "text": [
            "              precision    recall  f1-score   support\n",
            "\n",
            "           0       0.46      0.31      0.37      1593\n",
            "           1       0.63      0.76      0.69      2440\n",
            "\n",
            "    accuracy                           0.58      4033\n",
            "   macro avg       0.54      0.53      0.53      4033\n",
            "weighted avg       0.56      0.58      0.56      4033\n",
            "\n"
          ]
        }
      ]
    },
    {
      "cell_type": "markdown",
      "source": [
        "## Gradient Boosting Results"
      ],
      "metadata": {
        "id": "a-q9qfM-dBNa"
      }
    },
    {
      "cell_type": "code",
      "source": [
        "clf = GradientBoostingClassifier(n_estimators=100, learning_rate=1.0, max_depth=3, random_state=0)\n",
        "\n",
        "clf_grid = { \n",
        "    'n_estimators': [10,20,50,100],\n",
        "    'max_depth': [1,3,5]\n",
        "}\n",
        "\n",
        "grid_search = GridSearchCV(estimator = clf, cv = 5, param_grid = clf_grid, return_train_score=True)\n",
        "\n",
        "grid_search.fit(X_train, y_train.values.ravel())\n",
        "\n",
        "grid_search.best_params_\n",
        "\n",
        "#logistic regression results\n",
        "clf_result = (classification_report(y_test, grid_search.best_estimator_.predict(X_test)))\n",
        "print(clf_result)\n"
      ],
      "metadata": {
        "colab": {
          "base_uri": "https://localhost:8080/"
        },
        "id": "G_j8r6PndQTB",
        "outputId": "b448fd8a-8251-4769-febd-d969c42f2b5d"
      },
      "execution_count": null,
      "outputs": [
        {
          "output_type": "stream",
          "name": "stdout",
          "text": [
            "              precision    recall  f1-score   support\n",
            "\n",
            "           0       0.54      0.15      0.24      1593\n",
            "           1       0.62      0.92      0.74      2440\n",
            "\n",
            "    accuracy                           0.61      4033\n",
            "   macro avg       0.58      0.53      0.49      4033\n",
            "weighted avg       0.59      0.61      0.54      4033\n",
            "\n"
          ]
        }
      ]
    },
    {
      "cell_type": "markdown",
      "source": [
        "## Comparison"
      ],
      "metadata": {
        "id": "qU_K0jPedRCH"
      }
    },
    {
      "cell_type": "markdown",
      "source": [
        "given that the measure of success for this experiment for the business case was correctly predicting the price movement more than 52% of the time it would seem that all of the models are a success from that perspective!\n",
        "\n",
        "The best model by almost all metrics is the **Gradient Boosting Classifier**\n",
        "\n",
        "It is the only model with above 52% for both pos/neg stock moves which is especially nice since it would then be expected to perform well in both bad and good markets.\n",
        "\n",
        "Additionally it had the highest precision & recall for the macro and weighted average.\n",
        "\n",
        "It is the clear cut winner in this comparison. "
      ],
      "metadata": {
        "id": "h3IAkyG_dTXs"
      }
    }
  ]
}